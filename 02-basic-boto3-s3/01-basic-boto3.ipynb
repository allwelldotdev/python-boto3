{
 "cells": [
  {
   "cell_type": "code",
   "execution_count": null,
   "metadata": {},
   "outputs": [],
   "source": [
    "import random\n",
    "\n",
    "import boto3\n",
    "\n",
    "session = boto3.Session(profile_name=\"boto3_101\")"
   ]
  },
  {
   "cell_type": "markdown",
   "metadata": {},
   "source": [
    "Using the aws `client`\n"
   ]
  },
  {
   "cell_type": "code",
   "execution_count": 5,
   "metadata": {},
   "outputs": [
    {
     "data": {
      "text/plain": [
       "{'ResponseMetadata': {'RequestId': 'CVAQDQ1A12H0KWAF',\n",
       "  'HostId': 'xKsnkwXJ/uM0wgG+U/kAlo1nyj9D+UYuGP6aw8I/0Ok2n20gILIdPLjhPudAUIOqyEcUiwsiirBsG1JBVkyy2Xi28Jg7py0l',\n",
       "  'HTTPStatusCode': 200,\n",
       "  'HTTPHeaders': {'x-amz-id-2': 'xKsnkwXJ/uM0wgG+U/kAlo1nyj9D+UYuGP6aw8I/0Ok2n20gILIdPLjhPudAUIOqyEcUiwsiirBsG1JBVkyy2Xi28Jg7py0l',\n",
       "   'x-amz-request-id': 'CVAQDQ1A12H0KWAF',\n",
       "   'date': 'Mon, 17 Mar 2025 09:10:44 GMT',\n",
       "   'location': '/boto3-bucket-298564',\n",
       "   'content-length': '0',\n",
       "   'server': 'AmazonS3'},\n",
       "  'RetryAttempts': 0},\n",
       " 'Location': '/boto3-bucket-298564'}"
      ]
     },
     "execution_count": 5,
     "metadata": {},
     "output_type": "execute_result"
    }
   ],
   "source": [
    "rn = random.randrange(10**5, 10**6)\n",
    "\n",
    "s3_client = session.client(\"s3\")\n",
    "s3_client.create_bucket(Bucket=f\"boto3-bucket-{rn}\")"
   ]
  },
  {
   "cell_type": "code",
   "execution_count": 6,
   "metadata": {},
   "outputs": [
    {
     "data": {
      "text/plain": [
       "{'ResponseMetadata': {'RequestId': 'MJ2WJP7ZBX0B185Q',\n",
       "  'HostId': 'MVApgEZ5cwWbDcTY42LZ1Pbpg0zZhCMM7tBGOJ/HXowFofELB3Y4AE1s+XjnUvCmArCQ7JBJWhxKbZ1F0X/Tde2J9rNkbUlaacAOk+ygt7M=',\n",
       "  'HTTPStatusCode': 204,\n",
       "  'HTTPHeaders': {'x-amz-id-2': 'MVApgEZ5cwWbDcTY42LZ1Pbpg0zZhCMM7tBGOJ/HXowFofELB3Y4AE1s+XjnUvCmArCQ7JBJWhxKbZ1F0X/Tde2J9rNkbUlaacAOk+ygt7M=',\n",
       "   'x-amz-request-id': 'MJ2WJP7ZBX0B185Q',\n",
       "   'date': 'Mon, 17 Mar 2025 09:10:53 GMT',\n",
       "   'server': 'AmazonS3'},\n",
       "  'RetryAttempts': 0}}"
      ]
     },
     "execution_count": 6,
     "metadata": {},
     "output_type": "execute_result"
    }
   ],
   "source": [
    "s3_client.delete_bucket(Bucket=\"boto3-bucket-298564\")"
   ]
  },
  {
   "cell_type": "code",
   "execution_count": 7,
   "metadata": {},
   "outputs": [
    {
     "data": {
      "text/plain": [
       "[{'Name': 'add-demo-cloudfront-v1',\n",
       "  'CreationDate': datetime.datetime(2024, 6, 18, 12, 47, 1, tzinfo=tzutc())},\n",
       " {'Name': 'add-demo-s3-v1',\n",
       "  'CreationDate': datetime.datetime(2024, 6, 14, 16, 26, 57, tzinfo=tzutc())},\n",
       " {'Name': 'sagemaker-studio-891377239273-vees33vfkeb',\n",
       "  'CreationDate': datetime.datetime(2024, 10, 25, 5, 35, 20, tzinfo=tzutc())},\n",
       " {'Name': 'sagemaker-us-east-1-891377239273',\n",
       "  'CreationDate': datetime.datetime(2024, 10, 25, 5, 35, 25, tzinfo=tzutc())},\n",
       " {'Name': 'terraform-backend-frz9g',\n",
       "  'CreationDate': datetime.datetime(2024, 9, 11, 9, 35, 37, tzinfo=tzutc())}]"
      ]
     },
     "execution_count": 7,
     "metadata": {},
     "output_type": "execute_result"
    }
   ],
   "source": [
    "s3_client.list_buckets()[\"Buckets\"]"
   ]
  },
  {
   "cell_type": "code",
   "execution_count": 8,
   "metadata": {},
   "outputs": [
    {
     "data": {
      "text/plain": [
       "['add-demo-cloudfront-v1',\n",
       " 'add-demo-s3-v1',\n",
       " 'sagemaker-studio-891377239273-vees33vfkeb',\n",
       " 'sagemaker-us-east-1-891377239273',\n",
       " 'terraform-backend-frz9g']"
      ]
     },
     "execution_count": 8,
     "metadata": {},
     "output_type": "execute_result"
    }
   ],
   "source": [
    "list_s3_buckets = lambda: [\n",
    "    bucket[\"Name\"] for bucket in s3_client.list_buckets()[\"Buckets\"]\n",
    "]\n",
    "list_s3_buckets()"
   ]
  },
  {
   "cell_type": "code",
   "execution_count": null,
   "metadata": {},
   "outputs": [],
   "source": [
    "def bucket_name_generator(prefix: str = \"boto3-bucket\", random_digits: int = 6) -> str:\n",
    "    \"\"\"Generate random names for aws s3 buckets in format: \"prefix-random_digits\",\n",
    "    then create state that holds bucket names generated via `.names` attr.\n",
    "\n",
    "    Parameters\n",
    "    ----------\n",
    "    `prefix` : str\n",
    "        Bucket name prefix.\n",
    "    `random_digits` : int\n",
    "        Bucket name suffix i.e. generated random number with specified number of digits.\n",
    "\n",
    "    Returns\n",
    "    -------\n",
    "    str\n",
    "        Bucket name.\n",
    "    \"\"\"\n",
    "    rn = random.randrange(10 ** (random_digits - 1), 10 ** (random_digits))\n",
    "    bucket_name = f\"{prefix}-{rn}\"\n",
    "\n",
    "    # create state that holds bucket names generated\n",
    "    if not hasattr(bucket_name_generator, \"names\"):\n",
    "        bucket_name_generator.names = []\n",
    "    bucket_name_generator.names.append(bucket_name)\n",
    "\n",
    "    return bucket_name"
   ]
  },
  {
   "cell_type": "code",
   "execution_count": null,
   "metadata": {},
   "outputs": [],
   "source": [
    "def create_buckets(\n",
    "    number_of_buckets: int, bucket_prefix: str, random_digits: int\n",
    ") -> None:\n",
    "    \"\"\"Create aws s3 buckets with in format \"prefix-random_digits\" in `num` number of times.\n",
    "\n",
    "    Parameters\n",
    "    ----------\n",
    "    `number_of_buckets` : int\n",
    "        Number of buckets to create in AWS S3 through iteration.\n",
    "    `bucket_prefix` : str\n",
    "        Bucket name prefix.\n",
    "    `random_digits` : int\n",
    "        Bucket name suffix i.e. generated random number with specified number of digits.\n",
    "\n",
    "    Returns\n",
    "    -------\n",
    "    None\n",
    "    \"\"\"\n",
    "    for _ in range(number_of_buckets):\n",
    "        s3_client.create_bucket(\n",
    "            Bucket=bucket_name_generator(\n",
    "                prefix=bucket_prefix, random_digits=random_digits\n",
    "            )\n",
    "        )"
   ]
  },
  {
   "cell_type": "code",
   "execution_count": 14,
   "metadata": {},
   "outputs": [],
   "source": [
    "create_buckets(3, \"boto3-bucket\", 4)"
   ]
  },
  {
   "cell_type": "code",
   "execution_count": 15,
   "metadata": {},
   "outputs": [
    {
     "data": {
      "text/plain": [
       "['boto3-bucket-8897', 'boto3-bucket-7732', 'boto3-bucket-4849']"
      ]
     },
     "execution_count": 15,
     "metadata": {},
     "output_type": "execute_result"
    }
   ],
   "source": [
    "bucket_name_generator.names"
   ]
  },
  {
   "cell_type": "code",
   "execution_count": null,
   "metadata": {},
   "outputs": [],
   "source": [
    "def delete_buckets(bucket_names: list, contains_name: str | None = None) -> list:\n",
    "    \"\"\"Delete aws s3 buckets from generated bucket names and/or buckets containing the name in `contains_name` param.\n",
    "\n",
    "    Also cleans the `bucket_names` container after bucket deletion.\n",
    "\n",
    "    Parameters\n",
    "    ----------\n",
    "    `bucket_names` : list\n",
    "        Buckets names to be deleted from AWS S3 bucket. These bucket names must already exist in AWS S3.\n",
    "    `contains_name` : str | None\n",
    "        Delete bucket names not included in `bucket_names`. Defaults to `None`\n",
    "\n",
    "    Returns\n",
    "    -------\n",
    "    list\n",
    "        Current AWS S3 buckets.\n",
    "    \"\"\"\n",
    "\n",
    "    # delete buckets from `bucket_names` seq\n",
    "    for _, bucket_name in enumerate(bucket_names):\n",
    "        s3_client.delete_bucket(Bucket=bucket_name)\n",
    "\n",
    "    s3_buckets = lambda: [\n",
    "        bucket[\"Name\"] for bucket in s3_client.list_buckets()[\"Buckets\"]\n",
    "    ]\n",
    "\n",
    "    # delete buckets using `contains_name` value\n",
    "    if contains_name:\n",
    "        for bucket_name in s3_buckets():\n",
    "            if contains_name in bucket_name:\n",
    "                s3_client.delete_bucket(Bucket=bucket_name)\n",
    "            else:\n",
    "                raise ValueError(f\"{contains_name} is not in S3 buckets.\")\n",
    "\n",
    "    bucket_names.clear()\n",
    "\n",
    "    return s3_buckets()"
   ]
  },
  {
   "cell_type": "code",
   "execution_count": 17,
   "metadata": {},
   "outputs": [
    {
     "data": {
      "text/plain": [
       "['add-demo-cloudfront-v1',\n",
       " 'add-demo-s3-v1',\n",
       " 'boto3-bucket-4849',\n",
       " 'boto3-bucket-7732',\n",
       " 'boto3-bucket-8897',\n",
       " 'sagemaker-studio-891377239273-vees33vfkeb',\n",
       " 'sagemaker-us-east-1-891377239273',\n",
       " 'terraform-backend-frz9g']"
      ]
     },
     "execution_count": 17,
     "metadata": {},
     "output_type": "execute_result"
    }
   ],
   "source": [
    "list_s3_buckets()"
   ]
  },
  {
   "cell_type": "code",
   "execution_count": 18,
   "metadata": {},
   "outputs": [
    {
     "data": {
      "text/plain": [
       "['boto3-bucket-8897', 'boto3-bucket-7732', 'boto3-bucket-4849']"
      ]
     },
     "execution_count": 18,
     "metadata": {},
     "output_type": "execute_result"
    }
   ],
   "source": [
    "bucket_name_generator.names"
   ]
  },
  {
   "cell_type": "code",
   "execution_count": 19,
   "metadata": {},
   "outputs": [
    {
     "data": {
      "text/plain": [
       "['add-demo-cloudfront-v1',\n",
       " 'add-demo-s3-v1',\n",
       " 'sagemaker-studio-891377239273-vees33vfkeb',\n",
       " 'sagemaker-us-east-1-891377239273',\n",
       " 'terraform-backend-frz9g']"
      ]
     },
     "execution_count": 19,
     "metadata": {},
     "output_type": "execute_result"
    }
   ],
   "source": [
    "delete_buckets(bucket_name_generator.names)"
   ]
  },
  {
   "cell_type": "code",
   "execution_count": 20,
   "metadata": {},
   "outputs": [
    {
     "data": {
      "text/plain": [
       "[]"
      ]
     },
     "execution_count": 20,
     "metadata": {},
     "output_type": "execute_result"
    }
   ],
   "source": [
    "bucket_name_generator.names"
   ]
  },
  {
   "cell_type": "markdown",
   "metadata": {},
   "source": [
    "Using the aws `resource`\n"
   ]
  },
  {
   "cell_type": "code",
   "execution_count": null,
   "metadata": {},
   "outputs": [],
   "source": []
  }
 ],
 "metadata": {
  "kernelspec": {
   "display_name": "Python 3 (ipykernel)",
   "language": "python",
   "name": "python3"
  },
  "language_info": {
   "codemirror_mode": {
    "name": "ipython",
    "version": 3
   },
   "file_extension": ".py",
   "mimetype": "text/x-python",
   "name": "python",
   "nbconvert_exporter": "python",
   "pygments_lexer": "ipython3",
   "version": "3.10.12"
  }
 },
 "nbformat": 4,
 "nbformat_minor": 2
}
